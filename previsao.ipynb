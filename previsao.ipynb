{
 "cells": [
  {
   "cell_type": "markdown",
   "metadata": {},
   "source": [
    "Pré-processamento dos Dados"
   ]
  },
  {
   "cell_type": "code",
   "execution_count": null,
   "metadata": {},
   "outputs": [
    {
     "name": "stdout",
     "output_type": "stream",
     "text": [
      "     id                                              nome  host_id  \\\n",
      "0  2595                             Skylit Midtown Castle     2845   \n",
      "1  3647               THE VILLAGE OF HARLEM....NEW YORK !     4632   \n",
      "2  3831                   Cozy Entire Floor of Brownstone     4869   \n",
      "3  5022  Entire Apt: Spacious Studio/Loft by central park     7192   \n",
      "4  5099         Large Cozy 1 BR Apartment In Midtown East     7322   \n",
      "\n",
      "     host_name bairro_group        bairro  latitude  longitude  \\\n",
      "0     Jennifer    Manhattan       Midtown  40.75362  -73.98377   \n",
      "1    Elisabeth    Manhattan        Harlem  40.80902  -73.94190   \n",
      "2  LisaRoxanne     Brooklyn  Clinton Hill  40.68514  -73.95976   \n",
      "3        Laura    Manhattan   East Harlem  40.79851  -73.94399   \n",
      "4        Chris    Manhattan   Murray Hill  40.74767  -73.97500   \n",
      "\n",
      "         room_type  price  minimo_noites  numero_de_reviews ultima_review  \\\n",
      "0  Entire home/apt    225              1                 45    2019-05-21   \n",
      "1     Private room    150              3                  0           NaN   \n",
      "2  Entire home/apt     89              1                270    2019-07-05   \n",
      "3  Entire home/apt     80             10                  9    2018-11-19   \n",
      "4  Entire home/apt    200              3                 74    2019-06-22   \n",
      "\n",
      "   reviews_por_mes  calculado_host_listings_count  disponibilidade_365  \n",
      "0             0.38                              2                  355  \n",
      "1              NaN                              1                  365  \n",
      "2             4.64                              1                  194  \n",
      "3             0.10                              1                    0  \n",
      "4             0.59                              1                  129  \n"
     ]
    }
   ],
   "source": [
    "#Importação de Bibliotecas\n",
    "import pandas as pd\n",
    "import seaborn as sns\n",
    "import matplotlib.pyplot as plt\n",
    "from sklearn.model_selection import train_test_split\n",
    "from sklearn.ensemble import RandomForestRegressor\n",
    "from sklearn.metrics import mean_absolute_error, mean_squared_error, r2_score\n",
    "import joblib\n",
    "import re\n",
    "from collections import Counter\n",
    "\n",
    "#Carregando e exibindo a base de dados\n",
    "df = pd.read_csv(\"teste_indicium_precificacao.csv\")\n",
    "print(df.head())"
   ]
  },
  {
   "cell_type": "code",
   "execution_count": 177,
   "metadata": {},
   "outputs": [
    {
     "name": "stdout",
     "output_type": "stream",
     "text": [
      "Valores ausentes por coluna:\n",
      " id                                   0\n",
      "nome                                16\n",
      "host_id                              0\n",
      "host_name                           21\n",
      "bairro_group                         0\n",
      "bairro                               0\n",
      "latitude                             0\n",
      "longitude                            0\n",
      "room_type                            0\n",
      "price                                0\n",
      "minimo_noites                        0\n",
      "numero_de_reviews                    0\n",
      "ultima_review                    10052\n",
      "reviews_por_mes                  10052\n",
      "calculado_host_listings_count        0\n",
      "disponibilidade_365                  0\n",
      "dtype: int64\n"
     ]
    }
   ],
   "source": [
    "#Aponta a quantidade de valores faltantes em cada coluna\n",
    "print(\"Valores ausentes por coluna:\\n\",df.isna().sum())"
   ]
  },
  {
   "cell_type": "code",
   "execution_count": 178,
   "metadata": {},
   "outputs": [
    {
     "name": "stdout",
     "output_type": "stream",
     "text": [
      "id                                   0\n",
      "nome                                 0\n",
      "host_id                              0\n",
      "host_name                           21\n",
      "bairro_group                         0\n",
      "bairro                               0\n",
      "latitude                             0\n",
      "longitude                            0\n",
      "room_type                            0\n",
      "price                                0\n",
      "minimo_noites                        0\n",
      "numero_de_reviews                    0\n",
      "ultima_review                    10042\n",
      "reviews_por_mes                  10042\n",
      "calculado_host_listings_count        0\n",
      "disponibilidade_365                  0\n",
      "dtype: int64\n"
     ]
    }
   ],
   "source": [
    "#Limpeza dos Dados removendo linhas (NaN) da coluna 'nome'\n",
    "df.dropna(subset=['nome'], inplace=True)\n",
    "print(df.isna().sum())"
   ]
  },
  {
   "cell_type": "code",
   "execution_count": 179,
   "metadata": {},
   "outputs": [],
   "source": [
    "#Criando identificação para anfitrião usando seu 'host_id' como referência\n",
    "df['host_id'] = df['host_id'].fillna(-1).astype(int)\n",
    "df['host_name'] = df['host_name'].fillna(\"Anfitrião_\" + df['host_id'].astype(str))"
   ]
  },
  {
   "cell_type": "code",
   "execution_count": 180,
   "metadata": {},
   "outputs": [
    {
     "name": "stdout",
     "output_type": "stream",
     "text": [
      "10042\n",
      "10042\n",
      "count    48878.000000\n",
      "mean        23.281497\n",
      "std         44.556558\n",
      "min          0.000000\n",
      "25%          1.000000\n",
      "50%          5.000000\n",
      "75%         24.000000\n",
      "max        629.000000\n",
      "Name: numero_de_reviews, dtype: float64\n"
     ]
    }
   ],
   "source": [
    "#Conta valores ausentes (NaN) nas colunas 'ultima_review' e 'reviews_por_mes' Exibe estatísticas descritivas de 'numero_de_reviews' (média, min, max...)\n",
    "print(df['ultima_review'].isna().sum())  \n",
    "print(df['reviews_por_mes'].isna().sum()) \n",
    "print(df['numero_de_reviews'].describe())  # Estatísticas sobre a coluna"
   ]
  },
  {
   "cell_type": "code",
   "execution_count": 181,
   "metadata": {},
   "outputs": [
    {
     "name": "stderr",
     "output_type": "stream",
     "text": [
      "C:\\Users\\allys\\AppData\\Local\\Temp\\ipykernel_12680\\2769197053.py:4: FutureWarning: A value is trying to be set on a copy of a DataFrame or Series through chained assignment using an inplace method.\n",
      "The behavior will change in pandas 3.0. This inplace method will never work because the intermediate object on which we are setting values always behaves as a copy.\n",
      "\n",
      "For example, when doing 'df[col].method(value, inplace=True)', try using 'df.method({col: value}, inplace=True)' or df[col] = df[col].method(value) instead, to perform the operation inplace on the original object.\n",
      "\n",
      "\n",
      "  df['ultima_review'].fillna(pd.Timestamp(\"2000-01-01\"), inplace=True)  # Define um valor padrão\n"
     ]
    }
   ],
   "source": [
    "#Tratando dados temporais e convertendo a coluna de 'ultima_review' para formato datetime\n",
    "df['ultima_review'] = pd.to_datetime(df['ultima_review'], errors='coerce')\n",
    "df['ultima_review'] = df.groupby('host_id')['ultima_review'].transform('max')\n",
    "df['ultima_review'].fillna(pd.Timestamp(\"2000-01-01\"), inplace=True)  # Define um valor padrão"
   ]
  },
  {
   "cell_type": "code",
   "execution_count": 182,
   "metadata": {},
   "outputs": [],
   "source": [
    "#Preenchendo valores (NaN) com '0'\n",
    "\n",
    "df['ultima_review'] = df['ultima_review'].fillna(0)\n",
    "df['reviews_por_mes'] = df['reviews_por_mes'].fillna(0)"
   ]
  },
  {
   "cell_type": "code",
   "execution_count": 203,
   "metadata": {},
   "outputs": [
    {
     "name": "stdout",
     "output_type": "stream",
     "text": [
      "[]\n"
     ]
    }
   ],
   "source": [
    "#Conversão e limpeza de dados de Preço\n",
    "\n",
    "print(df['price'].unique())\n",
    "df['price'] = df['price'].astype(str).str.replace('[^.]', '', regex=True)  # Remove caracteres não numéricos\n",
    "df['price'] = pd.to_numeric(df['price'], errors='coerce')  # Converte para número\n",
    "df.dropna(subset=['price'], inplace=True)\n",
    "df['price'] = df['price'].astype(float)"
   ]
  },
  {
   "cell_type": "code",
   "execution_count": 184,
   "metadata": {},
   "outputs": [
    {
     "data": {
      "image/png": "[encoded data removed]",
      "text/plain": [
       "<Figure size 640x480 with 1 Axes>"
      ]
     },
     "metadata": {},
     "output_type": "display_data"
    }
   ],
   "source": [
    "#Análise visual\n",
    "\n",
    "df = df.dropna(subset=['price', 'numero_de_reviews'])\n",
    "plt.scatter(df['price'], df['numero_de_reviews'])\n",
    "plt.xlabel('Preço')\n",
    "plt.ylabel('Nº de Reviews')\n",
    "plt.title('Relação entre Preço e Número de Reviews')\n",
    "plt.show()"
   ]
  },
  {
   "cell_type": "code",
   "execution_count": 185,
   "metadata": {},
   "outputs": [
    {
     "name": "stdout",
     "output_type": "stream",
     "text": [
      "Média de preços por bairro_group:\n",
      "bairro_group\n",
      "Bronx             87.46\n",
      "Queens            99.52\n",
      "Staten Island    114.81\n",
      "Brooklyn         124.39\n",
      "Manhattan        196.88\n",
      "Name: price, dtype: float64\n"
     ]
    }
   ],
   "source": [
    "media_prices = df.groupby('bairro_group')['price'].mean().round(2).sort_values()\n",
    "print(\"Média de preços por bairro_group:\")\n",
    "print(media_prices)"
   ]
  },
  {
   "cell_type": "code",
   "execution_count": 186,
   "metadata": {},
   "outputs": [
    {
     "name": "stdout",
     "output_type": "stream",
     "text": [
      "Palavras mais comuns em locais mais caros:\n",
      "[('in', 1208), ('bedroom', 725), ('apartment', 558), ('apt', 515), ('luxury', 478), ('loft', 467), ('w', 443), ('the', 408), ('village', 385), ('park', 372)]\n"
     ]
    }
   ],
   "source": [
    "#Verificando padrões no texto do nome do local para lugares de mais alto valor\n",
    "limite_preco = df['price'].quantile(0.90)\n",
    "locais_mais_caros = df[df['price'] >= limite_preco]\n",
    "#Concatenar os nomes e separar palavras, removendo caracteres especiais\n",
    "todos_nomes = \" \".join(locais_mais_caros['nome']).lower()\n",
    "palavras = re.findall(r'\\b[a-zA-Z]+\\b', todos_nomes)\n",
    "#Contar frequência das palavras\n",
    "contagem_palavras = Counter(palavras)\n",
    "#Exibir as 10 palavras mais comuns\n",
    "print(\"Palavras mais comuns em locais mais caros:\")\n",
    "print(contagem_palavras.most_common(10))\n",
    "\n"
   ]
  },
  {
   "cell_type": "code",
   "execution_count": 187,
   "metadata": {},
   "outputs": [],
   "source": [
    "def sugerir_preco(apartamento):\n",
    "    modelo = joblib.load(\"modelo_precificacao.pkl\")\n",
    "    colunas = ['latitude', 'longitude', 'room_type', 'minimo_noites', 'numero_de_reviews',\n",
    "    'reviews_por_mes', 'calculado_host_listings_count', 'disponibilidade_365']\n",
    "    entrada = pd.DataFrame([apartamento], columns=colunas)\n",
    "    preco_sugerido = modelo.predict(entrada)\n",
    "    return preco_sugerido[0]"
   ]
  },
  {
   "cell_type": "markdown",
   "metadata": {},
   "source": [
    "TREINAMENTO DE MODELO"
   ]
  },
  {
   "cell_type": "code",
   "execution_count": 188,
   "metadata": {},
   "outputs": [],
   "source": [
    "#Verifica se a coluna 'room_type' existe no DataFrame\n",
    "if 'room_type' not in df.columns:\n",
    "    raise KeyError(\"A coluna 'room_type' não existe no DataFrame!\")\n",
    "\n",
    "#Preencher valores NaN com um valor padrão\n",
    "df['room_type'] = df['room_type'].fillna(\"Desconhecido\")\n",
    "\n",
    "#Remover espaços extras para evitar problemas com valores inconsistentes\n",
    "df['room_type'] = df['room_type'].str.strip()\n",
    "\n",
    "#Criar variáveis dummy corretamente\n",
    "variaveis = ['latitude', 'longitude', 'room_type', 'minimo_noites', 'numero_de_reviews',\n",
    "             'reviews_por_mes', 'calculado_host_listings_count', 'disponibilidade_365']\n",
    "\n",
    "x = pd.get_dummies(df[variaveis], drop_first=True)\n",
    "y = df['price']\n"
   ]
  },
  {
   "cell_type": "code",
   "execution_count": 189,
   "metadata": {},
   "outputs": [],
   "source": [
    "#Divisão entre treino e teste\n",
    "x_treino, x_teste, y_treino, y_teste = train_test_split(x, y, test_size=0.2, random_state=42)\n"
   ]
  },
  {
   "cell_type": "code",
   "execution_count": 190,
   "metadata": {},
   "outputs": [
    {
     "data": {
      "text/html": [
       "<style>#sk-container-id-9 {\n",
       "  /* Definition of color scheme common for light and dark mode */\n",
       "  --sklearn-color-text: #000;\n",
       "  --sklearn-color-text-muted: #666;\n",
       "  --sklearn-color-line: gray;\n",
       "  /* Definition of color scheme for unfitted estimators */\n",
       "  --sklearn-color-unfitted-level-0: #fff5e6;\n",
       "  --sklearn-color-unfitted-level-1: #f6e4d2;\n",
       "  --sklearn-color-unfitted-level-2: #ffe0b3;\n",
       "  --sklearn-color-unfitted-level-3: chocolate;\n",
       "  /* Definition of color scheme for fitted estimators */\n",
       "  --sklearn-color-fitted-level-0: #f0f8ff;\n",
       "  --sklearn-color-fitted-level-1: #d4ebff;\n",
       "  --sklearn-color-fitted-level-2: #b3dbfd;\n",
       "  --sklearn-color-fitted-level-3: cornflowerblue;\n",
       "\n",
       "  /* Specific color for light theme */\n",
       "  --sklearn-color-text-on-default-background: var(--sg-text-color, var(--theme-code-foreground, var(--jp-content-font-color1, black)));\n",
       "  --sklearn-color-background: var(--sg-background-color, var(--theme-background, var(--jp-layout-color0, white)));\n",
       "  --sklearn-color-border-box: var(--sg-text-color, var(--theme-code-foreground, var(--jp-content-font-color1, black)));\n",
       "  --sklearn-color-icon: #696969;\n",
       "\n",
       "  @media (prefers-color-scheme: dark) {\n",
       "    /* Redefinition of color scheme for dark theme */\n",
       "    --sklearn-color-text-on-default-background: var(--sg-text-color, var(--theme-code-foreground, var(--jp-content-font-color1, white)));\n",
       "    --sklearn-color-background: var(--sg-background-color, var(--theme-background, var(--jp-layout-color0, #111)));\n",
       "    --sklearn-color-border-box: var(--sg-text-color, var(--theme-code-foreground, var(--jp-content-font-color1, white)));\n",
       "    --sklearn-color-icon: #878787;\n",
       "  }\n",
       "}\n",
       "\n",
       "#sk-container-id-9 {\n",
       "  color: var(--sklearn-color-text);\n",
       "}\n",
       "\n",
       "#sk-container-id-9 pre {\n",
       "  padding: 0;\n",
       "}\n",
       "\n",
       "#sk-container-id-9 input.sk-hidden--visually {\n",
       "  border: 0;\n",
       "  clip: rect(1px 1px 1px 1px);\n",
       "  clip: rect(1px, 1px, 1px, 1px);\n",
       "  height: 1px;\n",
       "  margin: -1px;\n",
       "  overflow: hidden;\n",
       "  padding: 0;\n",
       "  position: absolute;\n",
       "  width: 1px;\n",
       "}\n",
       "\n",
       "#sk-container-id-9 div.sk-dashed-wrapped {\n",
       "  border: 1px dashed var(--sklearn-color-line);\n",
       "  margin: 0 0.4em 0.5em 0.4em;\n",
       "  box-sizing: border-box;\n",
       "  padding-bottom: 0.4em;\n",
       "  background-color: var(--sklearn-color-background);\n",
       "}\n",
       "\n",
       "#sk-container-id-9 div.sk-container {\n",
       "  /* jupyter's `normalize.less` sets `[hidden] { display: none; }`\n",
       "     but bootstrap.min.css set `[hidden] { display: none !important; }`\n",
       "     so we also need the `!important` here to be able to override the\n",
       "     default hidden behavior on the sphinx rendered scikit-learn.org.\n",
       "     See: https://github.com/scikit-learn/scikit-learn/issues/21755 */\n",
       "  display: inline-block !important;\n",
       "  position: relative;\n",
       "}\n",
       "\n",
       "#sk-container-id-9 div.sk-text-repr-fallback {\n",
       "  display: none;\n",
       "}\n",
       "\n",
       "div.sk-parallel-item,\n",
       "div.sk-serial,\n",
       "div.sk-item {\n",
       "  /* draw centered vertical line to link estimators */\n",
       "  background-image: linear-gradient(var(--sklearn-color-text-on-default-background), var(--sklearn-color-text-on-default-background));\n",
       "  background-size: 2px 100%;\n",
       "  background-repeat: no-repeat;\n",
       "  background-position: center center;\n",
       "}\n",
       "\n",
       "/* Parallel-specific style estimator block */\n",
       "\n",
       "#sk-container-id-9 div.sk-parallel-item::after {\n",
       "  content: \"\";\n",
       "  width: 100%;\n",
       "  border-bottom: 2px solid var(--sklearn-color-text-on-default-background);\n",
       "  flex-grow: 1;\n",
       "}\n",
       "\n",
       "#sk-container-id-9 div.sk-parallel {\n",
       "  display: flex;\n",
       "  align-items: stretch;\n",
       "  justify-content: center;\n",
       "  background-color: var(--sklearn-color-background);\n",
       "  position: relative;\n",
       "}\n",
       "\n",
       "#sk-container-id-9 div.sk-parallel-item {\n",
       "  display: flex;\n",
       "  flex-direction: column;\n",
       "}\n",
       "\n",
       "#sk-container-id-9 div.sk-parallel-item:first-child::after {\n",
       "  align-self: flex-end;\n",
       "  width: 50%;\n",
       "}\n",
       "\n",
       "#sk-container-id-9 div.sk-parallel-item:last-child::after {\n",
       "  align-self: flex-start;\n",
       "  width: 50%;\n",
       "}\n",
       "\n",
       "#sk-container-id-9 div.sk-parallel-item:only-child::after {\n",
       "  width: 0;\n",
       "}\n",
       "\n",
       "/* Serial-specific style estimator block */\n",
       "\n",
       "#sk-container-id-9 div.sk-serial {\n",
       "  display: flex;\n",
       "  flex-direction: column;\n",
       "  align-items: center;\n",
       "  background-color: var(--sklearn-color-background);\n",
       "  padding-right: 1em;\n",
       "  padding-left: 1em;\n",
       "}\n",
       "\n",
       "\n",
       "/* Toggleable style: style used for estimator/Pipeline/ColumnTransformer box that is\n",
       "clickable and can be expanded/collapsed.\n",
       "- Pipeline and ColumnTransformer use this feature and define the default style\n",
       "- Estimators will overwrite some part of the style using the `sk-estimator` class\n",
       "*/\n",
       "\n",
       "/* Pipeline and ColumnTransformer style (default) */\n",
       "\n",
       "#sk-container-id-9 div.sk-toggleable {\n",
       "  /* Default theme specific background. It is overwritten whether we have a\n",
       "  specific estimator or a Pipeline/ColumnTransformer */\n",
       "  background-color: var(--sklearn-color-background);\n",
       "}\n",
       "\n",
       "/* Toggleable label */\n",
       "#sk-container-id-9 label.sk-toggleable__label {\n",
       "  cursor: pointer;\n",
       "  display: flex;\n",
       "  width: 100%;\n",
       "  margin-bottom: 0;\n",
       "  padding: 0.5em;\n",
       "  box-sizing: border-box;\n",
       "  text-align: center;\n",
       "  align-items: start;\n",
       "  justify-content: space-between;\n",
       "  gap: 0.5em;\n",
       "}\n",
       "\n",
       "#sk-container-id-9 label.sk-toggleable__label .caption {\n",
       "  font-size: 0.6rem;\n",
       "  font-weight: lighter;\n",
       "  color: var(--sklearn-color-text-muted);\n",
       "}\n",
       "\n",
       "#sk-container-id-9 label.sk-toggleable__label-arrow:before {\n",
       "  /* Arrow on the left of the label */\n",
       "  content: \"▸\";\n",
       "  float: left;\n",
       "  margin-right: 0.25em;\n",
       "  color: var(--sklearn-color-icon);\n",
       "}\n",
       "\n",
       "#sk-container-id-9 label.sk-toggleable__label-arrow:hover:before {\n",
       "  color: var(--sklearn-color-text);\n",
       "}\n",
       "\n",
       "/* Toggleable content - dropdown */\n",
       "\n",
       "#sk-container-id-9 div.sk-toggleable__content {\n",
       "  max-height: 0;\n",
       "  max-width: 0;\n",
       "  overflow: hidden;\n",
       "  text-align: left;\n",
       "  /* unfitted */\n",
       "  background-color: var(--sklearn-color-unfitted-level-0);\n",
       "}\n",
       "\n",
       "#sk-container-id-9 div.sk-toggleable__content.fitted {\n",
       "  /* fitted */\n",
       "  background-color: var(--sklearn-color-fitted-level-0);\n",
       "}\n",
       "\n",
       "#sk-container-id-9 div.sk-toggleable__content pre {\n",
       "  margin: 0.2em;\n",
       "  border-radius: 0.25em;\n",
       "  color: var(--sklearn-color-text);\n",
       "  /* unfitted */\n",
       "  background-color: var(--sklearn-color-unfitted-level-0);\n",
       "}\n",
       "\n",
       "#sk-container-id-9 div.sk-toggleable__content.fitted pre {\n",
       "  /* unfitted */\n",
       "  background-color: var(--sklearn-color-fitted-level-0);\n",
       "}\n",
       "\n",
       "#sk-container-id-9 input.sk-toggleable__control:checked~div.sk-toggleable__content {\n",
       "  /* Expand drop-down */\n",
       "  max-height: 200px;\n",
       "  max-width: 100%;\n",
       "  overflow: auto;\n",
       "}\n",
       "\n",
       "#sk-container-id-9 input.sk-toggleable__control:checked~label.sk-toggleable__label-arrow:before {\n",
       "  content: \"▾\";\n",
       "}\n",
       "\n",
       "/* Pipeline/ColumnTransformer-specific style */\n",
       "\n",
       "#sk-container-id-9 div.sk-label input.sk-toggleable__control:checked~label.sk-toggleable__label {\n",
       "  color: var(--sklearn-color-text);\n",
       "  background-color: var(--sklearn-color-unfitted-level-2);\n",
       "}\n",
       "\n",
       "#sk-container-id-9 div.sk-label.fitted input.sk-toggleable__control:checked~label.sk-toggleable__label {\n",
       "  background-color: var(--sklearn-color-fitted-level-2);\n",
       "}\n",
       "\n",
       "/* Estimator-specific style */\n",
       "\n",
       "/* Colorize estimator box */\n",
       "#sk-container-id-9 div.sk-estimator input.sk-toggleable__control:checked~label.sk-toggleable__label {\n",
       "  /* unfitted */\n",
       "  background-color: var(--sklearn-color-unfitted-level-2);\n",
       "}\n",
       "\n",
       "#sk-container-id-9 div.sk-estimator.fitted input.sk-toggleable__control:checked~label.sk-toggleable__label {\n",
       "  /* fitted */\n",
       "  background-color: var(--sklearn-color-fitted-level-2);\n",
       "}\n",
       "\n",
       "#sk-container-id-9 div.sk-label label.sk-toggleable__label,\n",
       "#sk-container-id-9 div.sk-label label {\n",
       "  /* The background is the default theme color */\n",
       "  color: var(--sklearn-color-text-on-default-background);\n",
       "}\n",
       "\n",
       "/* On hover, darken the color of the background */\n",
       "#sk-container-id-9 div.sk-label:hover label.sk-toggleable__label {\n",
       "  color: var(--sklearn-color-text);\n",
       "  background-color: var(--sklearn-color-unfitted-level-2);\n",
       "}\n",
       "\n",
       "/* Label box, darken color on hover, fitted */\n",
       "#sk-container-id-9 div.sk-label.fitted:hover label.sk-toggleable__label.fitted {\n",
       "  color: var(--sklearn-color-text);\n",
       "  background-color: var(--sklearn-color-fitted-level-2);\n",
       "}\n",
       "\n",
       "/* Estimator label */\n",
       "\n",
       "#sk-container-id-9 div.sk-label label {\n",
       "  font-family: monospace;\n",
       "  font-weight: bold;\n",
       "  display: inline-block;\n",
       "  line-height: 1.2em;\n",
       "}\n",
       "\n",
       "#sk-container-id-9 div.sk-label-container {\n",
       "  text-align: center;\n",
       "}\n",
       "\n",
       "/* Estimator-specific */\n",
       "#sk-container-id-9 div.sk-estimator {\n",
       "  font-family: monospace;\n",
       "  border: 1px dotted var(--sklearn-color-border-box);\n",
       "  border-radius: 0.25em;\n",
       "  box-sizing: border-box;\n",
       "  margin-bottom: 0.5em;\n",
       "  /* unfitted */\n",
       "  background-color: var(--sklearn-color-unfitted-level-0);\n",
       "}\n",
       "\n",
       "#sk-container-id-9 div.sk-estimator.fitted {\n",
       "  /* fitted */\n",
       "  background-color: var(--sklearn-color-fitted-level-0);\n",
       "}\n",
       "\n",
       "/* on hover */\n",
       "#sk-container-id-9 div.sk-estimator:hover {\n",
       "  /* unfitted */\n",
       "  background-color: var(--sklearn-color-unfitted-level-2);\n",
       "}\n",
       "\n",
       "#sk-container-id-9 div.sk-estimator.fitted:hover {\n",
       "  /* fitted */\n",
       "  background-color: var(--sklearn-color-fitted-level-2);\n",
       "}\n",
       "\n",
       "/* Specification for estimator info (e.g. \"i\" and \"?\") */\n",
       "\n",
       "/* Common style for \"i\" and \"?\" */\n",
       "\n",
       ".sk-estimator-doc-link,\n",
       "a:link.sk-estimator-doc-link,\n",
       "a:visited.sk-estimator-doc-link {\n",
       "  float: right;\n",
       "  font-size: smaller;\n",
       "  line-height: 1em;\n",
       "  font-family: monospace;\n",
       "  background-color: var(--sklearn-color-background);\n",
       "  border-radius: 1em;\n",
       "  height: 1em;\n",
       "  width: 1em;\n",
       "  text-decoration: none !important;\n",
       "  margin-left: 0.5em;\n",
       "  text-align: center;\n",
       "  /* unfitted */\n",
       "  border: var(--sklearn-color-unfitted-level-1) 1pt solid;\n",
       "  color: var(--sklearn-color-unfitted-level-1);\n",
       "}\n",
       "\n",
       ".sk-estimator-doc-link.fitted,\n",
       "a:link.sk-estimator-doc-link.fitted,\n",
       "a:visited.sk-estimator-doc-link.fitted {\n",
       "  /* fitted */\n",
       "  border: var(--sklearn-color-fitted-level-1) 1pt solid;\n",
       "  color: var(--sklearn-color-fitted-level-1);\n",
       "}\n",
       "\n",
       "/* On hover */\n",
       "div.sk-estimator:hover .sk-estimator-doc-link:hover,\n",
       ".sk-estimator-doc-link:hover,\n",
       "div.sk-label-container:hover .sk-estimator-doc-link:hover,\n",
       ".sk-estimator-doc-link:hover {\n",
       "  /* unfitted */\n",
       "  background-color: var(--sklearn-color-unfitted-level-3);\n",
       "  color: var(--sklearn-color-background);\n",
       "  text-decoration: none;\n",
       "}\n",
       "\n",
       "div.sk-estimator.fitted:hover .sk-estimator-doc-link.fitted:hover,\n",
       ".sk-estimator-doc-link.fitted:hover,\n",
       "div.sk-label-container:hover .sk-estimator-doc-link.fitted:hover,\n",
       ".sk-estimator-doc-link.fitted:hover {\n",
       "  /* fitted */\n",
       "  background-color: var(--sklearn-color-fitted-level-3);\n",
       "  color: var(--sklearn-color-background);\n",
       "  text-decoration: none;\n",
       "}\n",
       "\n",
       "/* Span, style for the box shown on hovering the info icon */\n",
       ".sk-estimator-doc-link span {\n",
       "  display: none;\n",
       "  z-index: 9999;\n",
       "  position: relative;\n",
       "  font-weight: normal;\n",
       "  right: .2ex;\n",
       "  padding: .5ex;\n",
       "  margin: .5ex;\n",
       "  width: min-content;\n",
       "  min-width: 20ex;\n",
       "  max-width: 50ex;\n",
       "  color: var(--sklearn-color-text);\n",
       "  box-shadow: 2pt 2pt 4pt #999;\n",
       "  /* unfitted */\n",
       "  background: var(--sklearn-color-unfitted-level-0);\n",
       "  border: .5pt solid var(--sklearn-color-unfitted-level-3);\n",
       "}\n",
       "\n",
       ".sk-estimator-doc-link.fitted span {\n",
       "  /* fitted */\n",
       "  background: var(--sklearn-color-fitted-level-0);\n",
       "  border: var(--sklearn-color-fitted-level-3);\n",
       "}\n",
       "\n",
       ".sk-estimator-doc-link:hover span {\n",
       "  display: block;\n",
       "}\n",
       "\n",
       "/* \"?\"-specific style due to the `<a>` HTML tag */\n",
       "\n",
       "#sk-container-id-9 a.estimator_doc_link {\n",
       "  float: right;\n",
       "  font-size: 1rem;\n",
       "  line-height: 1em;\n",
       "  font-family: monospace;\n",
       "  background-color: var(--sklearn-color-background);\n",
       "  border-radius: 1rem;\n",
       "  height: 1rem;\n",
       "  width: 1rem;\n",
       "  text-decoration: none;\n",
       "  /* unfitted */\n",
       "  color: var(--sklearn-color-unfitted-level-1);\n",
       "  border: var(--sklearn-color-unfitted-level-1) 1pt solid;\n",
       "}\n",
       "\n",
       "#sk-container-id-9 a.estimator_doc_link.fitted {\n",
       "  /* fitted */\n",
       "  border: var(--sklearn-color-fitted-level-1) 1pt solid;\n",
       "  color: var(--sklearn-color-fitted-level-1);\n",
       "}\n",
       "\n",
       "/* On hover */\n",
       "#sk-container-id-9 a.estimator_doc_link:hover {\n",
       "  /* unfitted */\n",
       "  background-color: var(--sklearn-color-unfitted-level-3);\n",
       "  color: var(--sklearn-color-background);\n",
       "  text-decoration: none;\n",
       "}\n",
       "\n",
       "#sk-container-id-9 a.estimator_doc_link.fitted:hover {\n",
       "  /* fitted */\n",
       "  background-color: var(--sklearn-color-fitted-level-3);\n",
       "}\n",
       "</style><div id=\"sk-container-id-9\" class=\"sk-top-container\"><div class=\"sk-text-repr-fallback\"><pre>RandomForestRegressor(random_state=42)</pre><b>In a Jupyter environment, please rerun this cell to show the HTML representation or trust the notebook. <br />On GitHub, the HTML representation is unable to render, please try loading this page with nbviewer.org.</b></div><div class=\"sk-container\" hidden><div class=\"sk-item\"><div class=\"sk-estimator fitted sk-toggleable\"><input class=\"sk-toggleable__control sk-hidden--visually\" id=\"sk-estimator-id-9\" type=\"checkbox\" checked><label for=\"sk-estimator-id-9\" class=\"sk-toggleable__label fitted sk-toggleable__label-arrow\"><div><div>RandomForestRegressor</div></div><div><a class=\"sk-estimator-doc-link fitted\" rel=\"noreferrer\" target=\"_blank\" href=\"https://scikit-learn.org/1.6/modules/generated/sklearn.ensemble.RandomForestRegressor.html\">?<span>Documentation for RandomForestRegressor</span></a><span class=\"sk-estimator-doc-link fitted\">i<span>Fitted</span></span></div></label><div class=\"sk-toggleable__content fitted\"><pre>RandomForestRegressor(random_state=42)</pre></div> </div></div></div></div>"
      ],
      "text/plain": [
       "RandomForestRegressor(random_state=42)"
      ]
     },
     "execution_count": 190,
     "metadata": {},
     "output_type": "execute_result"
    }
   ],
   "source": [
    "#Treinando o modelo\n",
    "modelo = RandomForestRegressor(random_state=42)\n",
    "modelo.fit(x_treino, y_treino)"
   ]
  },
  {
   "cell_type": "code",
   "execution_count": 191,
   "metadata": {},
   "outputs": [
    {
     "name": "stdout",
     "output_type": "stream",
     "text": [
      "Métricas de Avaliação:\n",
      "Mean Absolute Error: 66.21212970540098\n",
      "Mean Squared Error: 39889.41076331833\n",
      "R2 Score: 0.12458431777494139\n"
     ]
    }
   ],
   "source": [
    "#Avaliação do modelo\n",
    "predicoes = modelo.predict(x_teste)\n",
    "print(\"Métricas de Avaliação:\")\n",
    "print(\"Mean Absolute Error:\", mean_absolute_error(y_teste, predicoes))\n",
    "print(\"Mean Squared Error:\", mean_squared_error(y_teste, predicoes))\n",
    "print(\"R2 Score:\", r2_score(y_teste, predicoes))"
   ]
  },
  {
   "cell_type": "code",
   "execution_count": 192,
   "metadata": {},
   "outputs": [
    {
     "data": {
      "text/plain": [
       "['modelo_precificacao.pkl']"
      ]
     },
     "execution_count": 192,
     "metadata": {},
     "output_type": "execute_result"
    }
   ],
   "source": [
    "#Salvando dados do modelo\n",
    "\n",
    "joblib.dump(modelo, \"modelo_precificacao.pkl\")"
   ]
  },
  {
   "cell_type": "code",
   "execution_count": 193,
   "metadata": {},
   "outputs": [
    {
     "name": "stdout",
     "output_type": "stream",
     "text": [
      "O melhor bairro para investimento é Manhattan, com média de preço de 196.88.\n"
     ]
    }
   ],
   "source": [
    "#1- Investimento ideal\n",
    "\n",
    "local_ideal = media_prices.idxmax()\n",
    "print(f\"O melhor bairro para investimento é {local_ideal}, com média de preço de {media_prices[local_ideal]:.2f}.\")"
   ]
  },
  {
   "cell_type": "code",
   "execution_count": 194,
   "metadata": {},
   "outputs": [
    {
     "name": "stdout",
     "output_type": "stream",
     "text": [
      "Correlação entre preço e noites mínimas: 0.04.\n",
      "Correlação entre preço e disponibilidade: 0.08.\n"
     ]
    }
   ],
   "source": [
    "#2- Influência de noites mínimas e disponibilidade no preço\n",
    "\n",
    "correlacao_minimo_noites = df['price'].corr(df['minimo_noites'])\n",
    "correlacao_disponibilidade = df['price'].corr(df['disponibilidade_365'])\n",
    "print(f\"Correlação entre preço e noites mínimas: {correlacao_minimo_noites:.2f}.\")\n",
    "print(f\"Correlação entre preço e disponibilidade: {correlacao_disponibilidade:.2f}.\")"
   ]
  },
  {
   "cell_type": "code",
   "execution_count": 195,
   "metadata": {},
   "outputs": [
    {
     "name": "stdout",
     "output_type": "stream",
     "text": [
      "Correlação entre tamanho do nome e preço: 0.04.\n"
     ]
    }
   ],
   "source": [
    "#3- Padrões no nome do local\n",
    "\n",
    "df['nome_length'] = df['nome'].str.len()\n",
    "correlacao_nome_valor = df['price'].corr(df['nome_length'])\n",
    "print(f\"Correlação entre tamanho do nome e preço: {correlacao_nome_valor:.2f}.\")\n",
    "\n"
   ]
  },
  {
   "cell_type": "code",
   "execution_count": 196,
   "metadata": {},
   "outputs": [],
   "source": [
    "#Carregando o modelo treinado anteriormente \n",
    "modelo = joblib.load(\"modelo_precificacao.pkl\")"
   ]
  },
  {
   "cell_type": "code",
   "execution_count": 197,
   "metadata": {},
   "outputs": [],
   "source": [
    "def sugerir_preco(apartamento):\n",
    "    modelo = joblib.load(\"modelo_precificacao.pkl\")\n",
    "\n",
    "    # Pegamos as features exatas usadas no modelo treinado\n",
    "    colunas = modelo.feature_names_in_\n",
    "\n",
    "    # Criamos um DataFrame preenchido com zeros\n",
    "    entrada = pd.DataFrame(0, index=[0], columns=colunas)\n",
    "\n",
    "    # Preenchendo os valores numéricos\n",
    "    for col in ['latitude', 'longitude', 'minimo_noites', 'numero_de_reviews', \n",
    "                'reviews_por_mes', 'calculado_host_listings_count', 'disponibilidade_365']:\n",
    "        if col in entrada.columns:\n",
    "            entrada[col] = apartamento[col]\n",
    "\n",
    "    # Ajustando o tipo de quarto (one-hot encoding correto)\n",
    "    room_type_col = f\"room_type_{apartamento['room_type']}\"\n",
    "    if room_type_col in entrada.columns:\n",
    "        entrada.loc[0, room_type_col] = 1\n",
    "\n",
    "    # Fazer a previsão\n",
    "    preco_sugerido = modelo.predict(entrada)\n",
    "    return preco_sugerido[0]\n"
   ]
  },
  {
   "cell_type": "code",
   "execution_count": 198,
   "metadata": {},
   "outputs": [
    {
     "name": "stdout",
     "output_type": "stream",
     "text": [
      "['latitude' 'longitude' 'minimo_noites' 'numero_de_reviews'\n",
      " 'reviews_por_mes' 'calculado_host_listings_count' 'disponibilidade_365'\n",
      " 'room_type_Private room' 'room_type_Shared room']\n"
     ]
    }
   ],
   "source": [
    "modelo = joblib.load(\"modelo_precificacao.pkl\")\n",
    "print(modelo.feature_names_in_)"
   ]
  },
  {
   "cell_type": "code",
   "execution_count": 199,
   "metadata": {},
   "outputs": [
    {
     "name": "stdout",
     "output_type": "stream",
     "text": [
      "['latitude' 'longitude' 'minimo_noites' 'numero_de_reviews'\n",
      " 'reviews_por_mes' 'calculado_host_listings_count' 'disponibilidade_365'\n",
      " 'room_type_Private room' 'room_type_Shared room']\n"
     ]
    }
   ],
   "source": [
    "modelo = joblib.load(\"modelo_precificacao.pkl\")\n",
    "print(modelo.feature_names_in_)\n"
   ]
  },
  {
   "cell_type": "code",
   "execution_count": 200,
   "metadata": {},
   "outputs": [
    {
     "name": "stdout",
     "output_type": "stream",
     "text": [
      "Sugestão de preço para o apartamento especificado: 298.73.\n"
     ]
    }
   ],
   "source": [
    "apartamento = {\n",
    "    'latitude': 40.75362,\n",
    "    'longitude': -73.98377,\n",
    "    'room_type': 'Entire home/apt',\n",
    "    'minimo_noites': 1,\n",
    "    'numero_de_reviews': 45,\n",
    "    'reviews_por_mes': 0.38,\n",
    "    'calculado_host_listings_count': 2,\n",
    "    'disponibilidade_365': 355\n",
    "}\n",
    "\n",
    "sugestao_preco = sugerir_preco(apartamento)\n",
    "print(f\"Sugestão de preço para o apartamento especificado: {sugestao_preco:.2f}.\")\n"
   ]
  }
 ],
 "metadata": {
  "kernelspec": {
   "display_name": "predictPrice",
   "language": "python",
   "name": "python3"
  },
  "language_info": {
   "codemirror_mode": {
    "name": "ipython",
    "version": 3
   },
   "file_extension": ".py",
   "mimetype": "text/x-python",
   "name": "python",
   "nbconvert_exporter": "python",
   "pygments_lexer": "ipython3",
   "version": "3.13.1"
  }
 },
 "nbformat": 4,
 "nbformat_minor": 2
}
